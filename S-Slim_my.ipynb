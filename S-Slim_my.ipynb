{
 "cells": [
  {
   "cell_type": "code",
   "execution_count": null,
   "metadata": {},
   "outputs": [],
   "source": [
    "import os\n",
    "# Setting directory to main course project work\n",
    "os.chdir('/Users/nicolobrunello/Desktop/RecommenderSystems/RecSysChallenge2021/RecSys_Course_AT_PoliMi')\n",
    "\n",
    "\n",
    "import os\n",
    "import numpy\n",
    "from Recommenders.SLIM.SLIMElasticNetRecommender import MultiThreadSLIM_SLIMElasticNetRecommender\n",
    "from Data_manager.split_functions.split_train_validation_random_holdout import \\\n",
    "    split_train_in_two_percentage_global_sample\n",
    "from Utils.load_URM import load_URM \n",
    "from Utils.load_ICM import load_ICM \n",
    "from scipy import sparse as sps\n",
    "import pandas as pd\n",
    "import scipy.sparse as sps\n",
    "\n",
    "from Data_manager.ChallengeDataset.ChallengeDataset import ChallengeDataset\n"
   ]
  },
  {
   "cell_type": "code",
   "execution_count": null,
   "metadata": {},
   "outputs": [],
   "source": [
    "def combine(ICM: sps.csr_matrix, URM : sps.csr_matrix):\n",
    "    return sps.hstack((URM.T, ICM), format='csr')\n",
    "\n",
    "\n",
    "dataset_object = ChallengeDataset()\n",
    "dataset = dataset_object.load_data()\n",
    "URM_train, URM_test = split_train_in_two_percentage_global_sample(dataset.get_URM_all(), train_percentage = 0.80)\n",
    "\n",
    "\n",
    "#URM_all = load_URM('Data/data_train.csv')\n",
    "print(URM_train.shape)\n",
    "ICM_channel_all = load_ICM('Data/data_ICM_channel.csv')\n",
    "ICM_event_all = load_ICM('Data/data_ICM_event.csv')\n",
    "ICM_genre_all = load_ICM('Data/data_ICM_genre.csv')\n",
    "ICM_subgenre_all = load_ICM('Data/data_ICM_subgenre.csv')\n",
    "ICM_all = sps.hstack((ICM_channel_all, ICM_event_all, ICM_genre_all, ICM_subgenre_all))\n",
    "print(ICM_all.shape)\n",
    "URM_ICM_all = combine(ICM=ICM_all, URM=URM_train)\n",
    "\n",
    "print(URM_ICM_all.shape)"
   ]
  },
  {
   "cell_type": "code",
   "execution_count": null,
   "metadata": {},
   "outputs": [],
   "source": [
    "print(URM_ICM_all.T.shape)"
   ]
  },
  {
   "cell_type": "code",
   "execution_count": null,
   "metadata": {},
   "outputs": [],
   "source": [
    "recommender = MultiThreadSLIM_SLIMElasticNetRecommender(URM_ICM_all, verbose=True)\n",
    "# Starting hyperparameters from Sanvito repo\n",
    "''' PARAMETRI DI SANVITO STANDARD\n",
    "SLIM_recommender.fit(\n",
    "        alpha=0.00026894910579512645,\n",
    "        l1_ratio=0.08074126876487486,\n",
    "        topK=int(395.376118479588),\n",
    "        workers=6\n",
    "    )\n",
    "'''\n",
    "\n",
    "#PARAMETRI CON CUI HO FATTO LA SUBMISSION DA 0.47699\n",
    "recommender.fit(\n",
    "        alpha=0.00027153127362632663,\n",
    "        l1_ratio=0.07989965746223235,\n",
    "        topK=int(397.147437437882),\n",
    "        workers=6\n",
    "    )\n",
    "\n",
    "\n",
    "'''recommender.fit(\n",
    "        alpha=0.007596772625600448,\n",
    "        l1_ratio=0.09354638545594608,\n",
    "        topK=410,\n",
    "        workers=6\n",
    "    )'''"
   ]
  },
  {
   "cell_type": "code",
   "execution_count": null,
   "metadata": {},
   "outputs": [],
   "source": [
    "\n",
    "from Recommenders.Recommender_import_list import *\n",
    "import scipy.sparse as sps\n",
    "\n",
    "from Data_manager.ChallengeDataset.ChallengeDataset import ChallengeDataset\n",
    "from Data_manager.DataSplitter_leave_k_out import DataSplitter_leave_k_out\n",
    "from Recommenders.Incremental_Training_Early_Stopping import Incremental_Training_Early_Stopping\n",
    "from Recommenders.BaseCBFRecommender import BaseItemCBFRecommender, BaseUserCBFRecommender\n",
    "from Evaluation.Evaluator import EvaluatorHoldout\n",
    "import traceback, os\n",
    "\n",
    "evaluator = EvaluatorHoldout(URM_test, [5, 10], exclude_seen=True)\n",
    "results_run_1, results_run_string_1 = evaluator.evaluateRecommender(recommender)\n",
    "output_root_path = \"./result_experiments/\"\n",
    "logFile = open(output_root_path + \"result_S-Slim.txt\", \"a\")\n",
    "\n",
    "recommender.save_model(output_root_path, file_name = \"temp_SSlim.zip\")\n",
    "print(\"Algorithm: S-Slim, results: \\n{}\".format( results_run_string_1))\n",
    "logFile.write(\"Algorithm: S-Slim, results: \\n{}\\n\".format(results_run_string_1))\n",
    "logFile.flush()\n"
   ]
  },
  {
   "cell_type": "code",
   "execution_count": null,
   "metadata": {},
   "outputs": [],
   "source": []
  }
 ],
 "metadata": {
  "interpreter": {
   "hash": "42e06d6a953d8041e6de5601ec538dbebffaf5a9b858db8b90559217270cff8a"
  },
  "kernelspec": {
   "display_name": "Python 3.8.12 64-bit ('recsys': conda)",
   "language": "python",
   "name": "python3"
  },
  "language_info": {
   "codemirror_mode": {
    "name": "ipython",
    "version": 3
   },
   "file_extension": ".py",
   "mimetype": "text/x-python",
   "name": "python",
   "nbconvert_exporter": "python",
   "pygments_lexer": "ipython3",
   "version": "3.8.12"
  },
  "orig_nbformat": 4
 },
 "nbformat": 4,
 "nbformat_minor": 2
}
