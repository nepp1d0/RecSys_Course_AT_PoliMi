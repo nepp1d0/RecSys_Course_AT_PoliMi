{
 "cells": [
  {
   "cell_type": "code",
   "execution_count": 7,
   "metadata": {},
   "outputs": [
    {
     "ename": "ModuleNotFoundError",
     "evalue": "No module named 'Utils.load_URM'",
     "output_type": "error",
     "traceback": [
      "\u001b[0;31m---------------------------------------------------------------------------\u001b[0m",
      "\u001b[0;31mModuleNotFoundError\u001b[0m                       Traceback (most recent call last)",
      "\u001b[0;32m/var/folders/8p/pn6_b0lj02n5_6mfdtzx22_w0000gn/T/ipykernel_50641/4079491392.py\u001b[0m in \u001b[0;36m<module>\u001b[0;34m\u001b[0m\n\u001b[1;32m      9\u001b[0m \u001b[0;32mfrom\u001b[0m \u001b[0mData_manager\u001b[0m\u001b[0;34m.\u001b[0m\u001b[0msplit_functions\u001b[0m\u001b[0;34m.\u001b[0m\u001b[0msplit_train_validation_random_holdout\u001b[0m \u001b[0;32mimport\u001b[0m\u001b[0;31m \u001b[0m\u001b[0;31m\\\u001b[0m\u001b[0;34m\u001b[0m\u001b[0;34m\u001b[0m\u001b[0m\n\u001b[1;32m     10\u001b[0m     \u001b[0msplit_train_in_two_percentage_global_sample\u001b[0m\u001b[0;34m\u001b[0m\u001b[0;34m\u001b[0m\u001b[0m\n\u001b[0;32m---> 11\u001b[0;31m \u001b[0;32mfrom\u001b[0m \u001b[0mUtils\u001b[0m\u001b[0;34m.\u001b[0m\u001b[0mload_URM\u001b[0m \u001b[0;32mimport\u001b[0m \u001b[0mload_URM\u001b[0m\u001b[0;34m\u001b[0m\u001b[0;34m\u001b[0m\u001b[0m\n\u001b[0m\u001b[1;32m     12\u001b[0m \u001b[0;32mfrom\u001b[0m \u001b[0mUtils\u001b[0m\u001b[0;34m.\u001b[0m\u001b[0mload_ICM\u001b[0m \u001b[0;32mimport\u001b[0m \u001b[0mload_ICM\u001b[0m\u001b[0;34m\u001b[0m\u001b[0;34m\u001b[0m\u001b[0m\n\u001b[1;32m     13\u001b[0m \u001b[0;32mfrom\u001b[0m \u001b[0mscipy\u001b[0m \u001b[0;32mimport\u001b[0m \u001b[0msparse\u001b[0m \u001b[0;32mas\u001b[0m \u001b[0msps\u001b[0m\u001b[0;34m\u001b[0m\u001b[0;34m\u001b[0m\u001b[0m\n",
      "\u001b[0;31mModuleNotFoundError\u001b[0m: No module named 'Utils.load_URM'"
     ]
    }
   ],
   "source": [
    "import os\n",
    "# Setting directory to main course project work\n",
    "os.chdir('/Users/nicolobrunello/Desktop/RecommenderSystems/RecSysChallenge2021/RecSys_Course_AT_PoliMi')\n",
    "\n",
    "\n",
    "import os\n",
    "import numpy\n",
    "from Recommenders.SLIM.SLIMElasticNetRecommender import MultiThreadSLIM_SLIMElasticNetRecommender\n",
    "from Data_manager.split_functions.split_train_validation_random_holdout import \\\n",
    "    split_train_in_two_percentage_global_sample\n",
    "from Utils.load_URM import load_URM \n",
    "from Utils.load_ICM import load_ICM \n",
    "from scipy import sparse as sps\n",
    "import pandas as pd\n",
    "\n"
   ]
  },
  {
   "cell_type": "code",
   "execution_count": null,
   "metadata": {},
   "outputs": [],
   "source": [
    "def combine(ICM: sps.csr_matrix, URM : sps.csr_matrix):\n",
    "    return sps.hstack((URM.T, ICM), format='csr')\n",
    "\n",
    "\n",
    "URM_all = load_URM('Data/data_train.csv')\n",
    "ICM_channel_all = load_ICM('Data/data_ICM_channel.csv')\n",
    "ICM_event_all = load_ICM('Data/data_ICM_event.csv')\n",
    "ICM_genre_all = load_ICM('Data/data_ICM_genre.csv')\n",
    "ICM_subgenre_all = load_ICM('Data/data_ICM_subgenre.csv')\n",
    "ICM_all = sps.hstack((ICM_channel_all, ICM_event_all, ICM_genre_all, ICM_subgenre_all))\n",
    "URM_ICM_all = combine(ICM=ICM_all, URM=URM_all)\n",
    "\n",
    "print(URM_ICM_all)"
   ]
  },
  {
   "cell_type": "code",
   "execution_count": null,
   "metadata": {},
   "outputs": [],
   "source": [
    "recommender = MultiThreadSLIM_SLIMElasticNetRecommender(URM_ICM_all.T, verbose=True)\n",
    "# Starting hyperparameters from Sanvito repo\n",
    "''' PARAMETRI DI SANVITO STANDARD\n",
    "SLIM_recommender.fit(\n",
    "        alpha=0.00026894910579512645,\n",
    "        l1_ratio=0.08074126876487486,\n",
    "        topK=int(395.376118479588),\n",
    "        workers=6\n",
    "    )\n",
    "'''\n",
    "\n",
    "#PARAMETRI CON CUI HO FATTO LA SUBMISSION DA 0.47699\n",
    "recommender.fit(\n",
    "        alpha=0.00027153127362632663,\n",
    "        l1_ratio=0.07989965746223235,\n",
    "        topK=int(397.147437437882),\n",
    "        workers=6\n",
    "    )\n",
    "\n",
    "\n",
    "'''recommender.fit(\n",
    "        alpha=0.007596772625600448,\n",
    "        l1_ratio=0.09354638545594608,\n",
    "        topK=410,\n",
    "        workers=6\n",
    "    )'''"
   ]
  }
 ],
 "metadata": {
  "interpreter": {
   "hash": "42e06d6a953d8041e6de5601ec538dbebffaf5a9b858db8b90559217270cff8a"
  },
  "kernelspec": {
   "display_name": "Python 3.8.12 64-bit ('recsys': conda)",
   "language": "python",
   "name": "python3"
  },
  "language_info": {
   "codemirror_mode": {
    "name": "ipython",
    "version": 3
   },
   "file_extension": ".py",
   "mimetype": "text/x-python",
   "name": "python",
   "nbconvert_exporter": "python",
   "pygments_lexer": "ipython3",
   "version": "3.8.12"
  },
  "orig_nbformat": 4
 },
 "nbformat": 4,
 "nbformat_minor": 2
}
